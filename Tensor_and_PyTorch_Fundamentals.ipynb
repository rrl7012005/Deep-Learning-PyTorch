{
  "nbformat": 4,
  "nbformat_minor": 0,
  "metadata": {
    "colab": {
      "provenance": [],
      "gpuType": "T4",
      "authorship_tag": "ABX9TyOsMp+8hDBpZjd+8iiQh+Qk",
      "include_colab_link": true
    },
    "kernelspec": {
      "name": "python3",
      "display_name": "Python 3"
    },
    "language_info": {
      "name": "python"
    },
    "accelerator": "GPU"
  },
  "cells": [
    {
      "cell_type": "markdown",
      "metadata": {
        "id": "view-in-github",
        "colab_type": "text"
      },
      "source": [
        "<a href=\"https://colab.research.google.com/github/rrl7012005/Deep-Learning-PyTorch/blob/main/Tensor_and_PyTorch_Fundamentals.ipynb\" target=\"_parent\"><img src=\"https://colab.research.google.com/assets/colab-badge.svg\" alt=\"Open In Colab\"/></a>"
      ]
    },
    {
      "cell_type": "code",
      "execution_count": null,
      "metadata": {
        "id": "lf78TI4GfsbV"
      },
      "outputs": [],
      "source": [
        "import torch"
      ]
    },
    {
      "cell_type": "markdown",
      "source": [
        "Get the version"
      ],
      "metadata": {
        "id": "V3IBcndzjb-V"
      }
    },
    {
      "cell_type": "code",
      "source": [
        "torch.__version__"
      ],
      "metadata": {
        "colab": {
          "base_uri": "https://localhost:8080/",
          "height": 36
        },
        "id": "IuuY_iqtjYxN",
        "outputId": "b5ea323e-676a-4fcd-cdae-4640d06584cf"
      },
      "execution_count": null,
      "outputs": [
        {
          "output_type": "execute_result",
          "data": {
            "text/plain": [
              "'2.4.0+cu121'"
            ],
            "application/vnd.google.colaboratory.intrinsic+json": {
              "type": "string"
            }
          },
          "metadata": {},
          "execution_count": 152
        }
      ]
    },
    {
      "cell_type": "markdown",
      "source": [
        "#Tensors"
      ],
      "metadata": {
        "id": "tyoX5HrUjkCe"
      }
    },
    {
      "cell_type": "markdown",
      "source": [
        "Lets create a scalar tensor, 0 dimensional tensor"
      ],
      "metadata": {
        "id": "MVAXVj7Mjrpg"
      }
    },
    {
      "cell_type": "code",
      "source": [
        "scalar = torch.tensor(7) #Notice the lowercase t\n",
        "scalar"
      ],
      "metadata": {
        "colab": {
          "base_uri": "https://localhost:8080/"
        },
        "id": "UKScRlr-jZGy",
        "outputId": "f9232456-5c6d-43d3-e364-639f855e14d7"
      },
      "execution_count": null,
      "outputs": [
        {
          "output_type": "execute_result",
          "data": {
            "text/plain": [
              "tensor(7)"
            ]
          },
          "metadata": {},
          "execution_count": 153
        }
      ]
    },
    {
      "cell_type": "markdown",
      "source": [
        "To check a dimension of a tensor. Use the .ndim attribute"
      ],
      "metadata": {
        "id": "OxThlKi6jy42"
      }
    },
    {
      "cell_type": "code",
      "source": [
        "scalar.ndim"
      ],
      "metadata": {
        "colab": {
          "base_uri": "https://localhost:8080/"
        },
        "id": "cWaWX0iPj2Vn",
        "outputId": "c577f0c7-c435-4996-838a-044b99565208"
      },
      "execution_count": null,
      "outputs": [
        {
          "output_type": "execute_result",
          "data": {
            "text/plain": [
              "0"
            ]
          },
          "metadata": {},
          "execution_count": 154
        }
      ]
    },
    {
      "cell_type": "markdown",
      "source": [
        "If we just wanted the number from the tensor, use .item() method for 0 D tensors"
      ],
      "metadata": {
        "id": "27h4OBmUj43Z"
      }
    },
    {
      "cell_type": "code",
      "source": [
        "scalar.item()"
      ],
      "metadata": {
        "colab": {
          "base_uri": "https://localhost:8080/"
        },
        "id": "a4tl0TLkkHZG",
        "outputId": "aa7bf67c-a940-4e1c-dc69-52e801b4344d"
      },
      "execution_count": null,
      "outputs": [
        {
          "output_type": "execute_result",
          "data": {
            "text/plain": [
              "7"
            ]
          },
          "metadata": {},
          "execution_count": 155
        }
      ]
    },
    {
      "cell_type": "markdown",
      "source": [
        "**Vector Tensor**"
      ],
      "metadata": {
        "id": "96yIKhIekLMW"
      }
    },
    {
      "cell_type": "markdown",
      "source": [
        "So bracket and then array. Here the dimensions refers to the rank of the tensor not of the vector. If you want the actual dimensions, use .shape attribute"
      ],
      "metadata": {
        "id": "62PoEf15kTH6"
      }
    },
    {
      "cell_type": "code",
      "source": [
        "vector = torch.tensor([7, 7])\n",
        "vector, vector.ndim"
      ],
      "metadata": {
        "colab": {
          "base_uri": "https://localhost:8080/"
        },
        "id": "BRamD_82kOXA",
        "outputId": "1f416b6b-2c79-48a7-950b-a2eb6c861e88"
      },
      "execution_count": null,
      "outputs": [
        {
          "output_type": "execute_result",
          "data": {
            "text/plain": [
              "(tensor([7, 7]), 1)"
            ]
          },
          "metadata": {},
          "execution_count": 156
        }
      ]
    },
    {
      "cell_type": "code",
      "source": [
        "vector.shape #returns tensor"
      ],
      "metadata": {
        "colab": {
          "base_uri": "https://localhost:8080/"
        },
        "id": "36cv7TiPkifH",
        "outputId": "ff1dd0c9-5b3d-4ed3-80ca-065130ee1f58"
      },
      "execution_count": null,
      "outputs": [
        {
          "output_type": "execute_result",
          "data": {
            "text/plain": [
              "torch.Size([2])"
            ]
          },
          "metadata": {},
          "execution_count": 157
        }
      ]
    },
    {
      "cell_type": "markdown",
      "source": [
        "**Matrix**"
      ],
      "metadata": {
        "id": "wwkJ7avNkm4q"
      }
    },
    {
      "cell_type": "code",
      "source": [
        "Matrix = torch.tensor([[7, 8],\n",
        "                       [2, 5]])\n",
        "\n",
        "Matrix, Matrix.ndim, Matrix.shape"
      ],
      "metadata": {
        "colab": {
          "base_uri": "https://localhost:8080/"
        },
        "id": "FWXhJ4LckoLk",
        "outputId": "c2c1bd0c-62f5-44a5-e49c-bd68fc0f612c"
      },
      "execution_count": null,
      "outputs": [
        {
          "output_type": "execute_result",
          "data": {
            "text/plain": [
              "(tensor([[7, 8],\n",
              "         [2, 5]]),\n",
              " 2,\n",
              " torch.Size([2, 2]))"
            ]
          },
          "metadata": {},
          "execution_count": 158
        }
      ]
    },
    {
      "cell_type": "markdown",
      "source": [
        "Remember shapes are given from outer dimension to inner dimension, with lowercase letters representing scalars and vectors and matrices and higher with capital letters."
      ],
      "metadata": {
        "id": "AfvdP62Ak8CX"
      }
    },
    {
      "cell_type": "markdown",
      "source": [
        "**Random Tensors**"
      ],
      "metadata": {
        "id": "vnVs0a5jlInP"
      }
    },
    {
      "cell_type": "markdown",
      "source": [
        "torch.rand draws from a uniform distribution 0 to 1. Pass the shape as the argument.\n",
        "\n",
        "Also .dtype is an attribute of all tensors"
      ],
      "metadata": {
        "id": "gC9Il2Wzlyzz"
      }
    },
    {
      "cell_type": "code",
      "source": [
        "random = torch.rand(size=(3,4))\n",
        "random, random.dtype"
      ],
      "metadata": {
        "colab": {
          "base_uri": "https://localhost:8080/"
        },
        "id": "TiZKyhAalKjj",
        "outputId": "8fddf2ab-3064-4056-e641-4ce2f9b07439"
      },
      "execution_count": null,
      "outputs": [
        {
          "output_type": "execute_result",
          "data": {
            "text/plain": [
              "(tensor([[0.3829, 0.9593, 0.3904, 0.6009],\n",
              "         [0.2566, 0.7936, 0.9408, 0.1332],\n",
              "         [0.9346, 0.5936, 0.8694, 0.5677]]),\n",
              " torch.float32)"
            ]
          },
          "metadata": {},
          "execution_count": 159
        }
      ]
    },
    {
      "cell_type": "markdown",
      "source": [
        "**Filling tensors**"
      ],
      "metadata": {
        "id": "u7bDo672mJ70"
      }
    },
    {
      "cell_type": "markdown",
      "source": [
        "Fill with zeros using torch.zeros, pass the size. Same with torch.ones\n",
        "\n",
        "ones_like, zeros_like pass the tensor into the input argument"
      ],
      "metadata": {
        "id": "_6bJ10DmmLU-"
      }
    },
    {
      "cell_type": "code",
      "source": [
        "zeros = torch.zeros((3, 4))\n",
        "ones = torch.ones((2, 5))\n",
        "\n",
        "ones, zeros"
      ],
      "metadata": {
        "colab": {
          "base_uri": "https://localhost:8080/"
        },
        "id": "nh7p3lRemVoV",
        "outputId": "2ec4edab-608d-4f60-d97e-f9e81e9e4f92"
      },
      "execution_count": null,
      "outputs": [
        {
          "output_type": "execute_result",
          "data": {
            "text/plain": [
              "(tensor([[1., 1., 1., 1., 1.],\n",
              "         [1., 1., 1., 1., 1.]]),\n",
              " tensor([[0., 0., 0., 0.],\n",
              "         [0., 0., 0., 0.],\n",
              "         [0., 0., 0., 0.]]))"
            ]
          },
          "metadata": {},
          "execution_count": 160
        }
      ]
    },
    {
      "cell_type": "markdown",
      "source": [
        "Can create tensors covering a range of values, using arange."
      ],
      "metadata": {
        "id": "OLbNxM7pmvTj"
      }
    },
    {
      "cell_type": "code",
      "source": [
        "x = torch.arange(start=0, end=10, step=2)\n",
        "x"
      ],
      "metadata": {
        "colab": {
          "base_uri": "https://localhost:8080/"
        },
        "id": "ZH7JdMjum4ED",
        "outputId": "209a11ec-0077-4f95-8db3-55aecf6c7c3a"
      },
      "execution_count": null,
      "outputs": [
        {
          "output_type": "execute_result",
          "data": {
            "text/plain": [
              "tensor([0, 2, 4, 6, 8])"
            ]
          },
          "metadata": {},
          "execution_count": 161
        }
      ]
    },
    {
      "cell_type": "markdown",
      "source": [
        "**Data types**"
      ],
      "metadata": {
        "id": "njsiz5VBnAR4"
      }
    },
    {
      "cell_type": "markdown",
      "source": [
        "Some data types are specific for CPU, some are better for GPU. Generally if you see torch.cuda anywhere, the tensor is being used for GPU.\n",
        "\n",
        "The default is torch.float32 aka torch.float\n",
        "\n",
        "torch.float64 aka torch.double\n",
        "torch.float16 aka torch.half\n",
        "\n",
        "Whenever you create a tensor you can specify which device you put it on. If dont specify it will default"
      ],
      "metadata": {
        "id": "kQ9WKrrmnBde"
      }
    },
    {
      "cell_type": "markdown",
      "source": [
        "Can also determine dtypes when creating a tensor"
      ],
      "metadata": {
        "id": "yx2yJ4somfJM"
      }
    },
    {
      "cell_type": "code",
      "source": [
        "x = torch.ones_like(ones, dtype = torch.float64)\n",
        "x = torch.zeros_like(ones, dtype = torch.float64)\n",
        "x.shape, x.dtype"
      ],
      "metadata": {
        "colab": {
          "base_uri": "https://localhost:8080/"
        },
        "id": "QtOCLGvnmiOU",
        "outputId": "214f8958-a5b4-4e2a-91ea-6b312e4c6f91"
      },
      "execution_count": null,
      "outputs": [
        {
          "output_type": "execute_result",
          "data": {
            "text/plain": [
              "(torch.Size([2, 5]), torch.float64)"
            ]
          },
          "metadata": {},
          "execution_count": 162
        }
      ]
    },
    {
      "cell_type": "markdown",
      "source": [
        "The requires grad determines whether pytorch will track gradients on the computer (see below)."
      ],
      "metadata": {
        "id": "bZkK8Lampiwl"
      }
    },
    {
      "cell_type": "code",
      "source": [
        "tensor = torch.tensor([3.0, 6.0, 9.0], dtype=None, device=None, requires_grad=False)\n",
        "\n",
        "tensor.device #Default device is usually cpu"
      ],
      "metadata": {
        "colab": {
          "base_uri": "https://localhost:8080/"
        },
        "id": "E0vVgXwLnqT3",
        "outputId": "7dddc443-6a8d-47ba-c3e3-f7f2c3533252"
      },
      "execution_count": null,
      "outputs": [
        {
          "output_type": "execute_result",
          "data": {
            "text/plain": [
              "device(type='cpu')"
            ]
          },
          "metadata": {},
          "execution_count": 163
        }
      ]
    },
    {
      "cell_type": "markdown",
      "source": [
        "##Tensor Operations"
      ],
      "metadata": {
        "id": "JyM5SaRHpsxR"
      }
    },
    {
      "cell_type": "markdown",
      "source": [
        "Element wise addition and multiplication like numpy"
      ],
      "metadata": {
        "id": "RNBJ_ZU7pwoy"
      }
    },
    {
      "cell_type": "code",
      "source": [
        "tensor = torch.tensor([1, 2, 3])\n",
        "tensor + 10, tensor * 10 #note tensor wont change unless reassigned"
      ],
      "metadata": {
        "colab": {
          "base_uri": "https://localhost:8080/"
        },
        "id": "Xbg082fep1iX",
        "outputId": "db955445-9c2d-42d3-b641-4de8f49676d6"
      },
      "execution_count": null,
      "outputs": [
        {
          "output_type": "execute_result",
          "data": {
            "text/plain": [
              "(tensor([11, 12, 13]), tensor([10, 20, 30]))"
            ]
          },
          "metadata": {},
          "execution_count": 164
        }
      ]
    },
    {
      "cell_type": "markdown",
      "source": [
        "PyTorch also has built in functions for element wise operations"
      ],
      "metadata": {
        "id": "Hnv77NFTp_vR"
      }
    },
    {
      "cell_type": "code",
      "source": [
        "torch.mul(tensor, 10), torch.add(tensor, 10)"
      ],
      "metadata": {
        "colab": {
          "base_uri": "https://localhost:8080/"
        },
        "id": "AprjUM2yqDdg",
        "outputId": "3f168acd-7ab5-4013-909b-f18a79dcb9ce"
      },
      "execution_count": null,
      "outputs": [
        {
          "output_type": "execute_result",
          "data": {
            "text/plain": [
              "(tensor([10, 20, 30]), tensor([11, 12, 13]))"
            ]
          },
          "metadata": {},
          "execution_count": 165
        }
      ]
    },
    {
      "cell_type": "markdown",
      "source": [
        "If you have 2 tensors of the same shape. it will still do element wise addition/multiplication"
      ],
      "metadata": {
        "id": "DOvjJTIvqIj_"
      }
    },
    {
      "cell_type": "code",
      "source": [
        "tensor * tensor, tensor + tensor"
      ],
      "metadata": {
        "colab": {
          "base_uri": "https://localhost:8080/"
        },
        "id": "QhV2ZW0uqNWn",
        "outputId": "a108e065-9a46-42af-a4ba-1eedd20cce8d"
      },
      "execution_count": null,
      "outputs": [
        {
          "output_type": "execute_result",
          "data": {
            "text/plain": [
              "(tensor([1, 4, 9]), tensor([2, 4, 6]))"
            ]
          },
          "metadata": {},
          "execution_count": 166
        }
      ]
    },
    {
      "cell_type": "markdown",
      "source": [
        "For matrix multiplication use matmul or @ or mm for short. For 1D tensors, they will interpret matmul as a dot product."
      ],
      "metadata": {
        "id": "bOmYankjqW-_"
      }
    },
    {
      "cell_type": "code",
      "source": [
        "tensor @ tensor"
      ],
      "metadata": {
        "colab": {
          "base_uri": "https://localhost:8080/"
        },
        "id": "TE03f__Yq9Ic",
        "outputId": "163e47b8-b61a-43b9-bb5b-249d2828edc1"
      },
      "execution_count": null,
      "outputs": [
        {
          "output_type": "execute_result",
          "data": {
            "text/plain": [
              "tensor(14)"
            ]
          },
          "metadata": {},
          "execution_count": 167
        }
      ]
    },
    {
      "cell_type": "markdown",
      "source": [
        "torch.transpose works in 2 ways. Either you can take a tensor object and apply a tranpose method or apply tranpose function (specifying the 2 dimensions to swap)"
      ],
      "metadata": {
        "id": "_lTuDx4irQp8"
      }
    },
    {
      "cell_type": "code",
      "source": [
        "tensor_A = torch.rand(3, 2)\n",
        "tensor_B = torch.rand(3, 2)\n",
        "\n",
        "print(torch.mm(tensor_A, tensor_B.T))\n",
        "\n",
        "torch.transpose(tensor_B, -2, -1)\n",
        "\n",
        "t = torch.rand(4, 3, 1, 2, 1, 3)\n",
        "t.T.shape #this swaps all the dimensions"
      ],
      "metadata": {
        "colab": {
          "base_uri": "https://localhost:8080/"
        },
        "id": "uIv7yyMUrQD6",
        "outputId": "767ef501-ae69-4ff1-b1f0-492ab83acca6"
      },
      "execution_count": null,
      "outputs": [
        {
          "output_type": "stream",
          "name": "stdout",
          "text": [
            "tensor([[0.3893, 0.5772, 0.1938],\n",
            "        [0.4920, 0.7402, 0.2479],\n",
            "        [0.3488, 0.6010, 0.1972]])\n"
          ]
        },
        {
          "output_type": "execute_result",
          "data": {
            "text/plain": [
              "torch.Size([3, 1, 2, 1, 3, 4])"
            ]
          },
          "metadata": {},
          "execution_count": 168
        }
      ]
    },
    {
      "cell_type": "markdown",
      "source": [
        "##Aggregation"
      ],
      "metadata": {
        "id": "dxfmoEK7shgp"
      }
    },
    {
      "cell_type": "markdown",
      "source": [
        "Aggregating essentially goes from more values to less values"
      ],
      "metadata": {
        "id": "FKwlmlKOsw9A"
      }
    },
    {
      "cell_type": "markdown",
      "source": [
        "To find minima, maximima, mean, sum of a tensor. Just do: Now for some methods like mean, data has to be in float32 or some other specific data type\n",
        "\n",
        "So first cast the tensor."
      ],
      "metadata": {
        "id": "1LYq5o_Ds0cg"
      }
    },
    {
      "cell_type": "code",
      "source": [
        "x = torch.arange(0, 100, 10)\n",
        "x = x.type(torch.float32)\n",
        "x.min(), x.max(), x.mean(), x.sum()"
      ],
      "metadata": {
        "colab": {
          "base_uri": "https://localhost:8080/"
        },
        "id": "BkheN2p5si7v",
        "outputId": "1c8ae5f0-5556-41d4-cf21-9ab93c4af65a"
      },
      "execution_count": null,
      "outputs": [
        {
          "output_type": "execute_result",
          "data": {
            "text/plain": [
              "(tensor(0.), tensor(90.), tensor(45.), tensor(450.))"
            ]
          },
          "metadata": {},
          "execution_count": 169
        }
      ]
    },
    {
      "cell_type": "code",
      "source": [
        "#Can also do like this\n",
        "\n",
        "torch.max(x), torch.min(x), torch.mean(x), torch.sum(x)"
      ],
      "metadata": {
        "colab": {
          "base_uri": "https://localhost:8080/"
        },
        "id": "Nq01NesJtWM_",
        "outputId": "7a69a870-f706-42d2-c556-79dbef69a7cd"
      },
      "execution_count": null,
      "outputs": [
        {
          "output_type": "execute_result",
          "data": {
            "text/plain": [
              "(tensor(90.), tensor(0.), tensor(45.), tensor(450.))"
            ]
          },
          "metadata": {},
          "execution_count": 170
        }
      ]
    },
    {
      "cell_type": "markdown",
      "source": [
        "Can find the argument of the max or min value"
      ],
      "metadata": {
        "id": "8wHSjeH8tcf9"
      }
    },
    {
      "cell_type": "code",
      "source": [
        "tensor = torch.rand((4, 3))\n",
        "tensor, tensor.argmin(), tensor.argmax() #if multiple D it first stretches the tensors into 1D going from inner to outer dimension"
      ],
      "metadata": {
        "colab": {
          "base_uri": "https://localhost:8080/"
        },
        "id": "Mx1vjZ2Tto7t",
        "outputId": "bdbfdc01-9ee5-41bd-cb62-0a15045df4ab"
      },
      "execution_count": null,
      "outputs": [
        {
          "output_type": "execute_result",
          "data": {
            "text/plain": [
              "(tensor([[0.3227, 0.0162, 0.2137],\n",
              "         [0.6249, 0.4340, 0.1371],\n",
              "         [0.5117, 0.1585, 0.0758],\n",
              "         [0.2247, 0.0624, 0.1816]]),\n",
              " tensor(1),\n",
              " tensor(3))"
            ]
          },
          "metadata": {},
          "execution_count": 171
        }
      ]
    },
    {
      "cell_type": "markdown",
      "source": [
        "Can also torch. methods for that. For any method applied to a tensor you can also do torch."
      ],
      "metadata": {
        "id": "BXYXjLFct8ey"
      }
    },
    {
      "cell_type": "markdown",
      "source": [
        "**Reshaping**"
      ],
      "metadata": {
        "id": "Z-5KagvluFQ3"
      }
    },
    {
      "cell_type": "markdown",
      "source": [
        "Add extra dimension with torch.reshape. has to be compatible ofcourse."
      ],
      "metadata": {
        "id": "oEgYKa_EuHtQ"
      }
    },
    {
      "cell_type": "code",
      "source": [
        "x = torch.arange(1, 8)\n",
        "x_reshaped = x.reshape(1, 7)\n",
        "x_reshaped, x_reshaped.shape"
      ],
      "metadata": {
        "colab": {
          "base_uri": "https://localhost:8080/"
        },
        "id": "Qm6r6OSQuM7z",
        "outputId": "e46e4c3e-0f7e-4e23-ec76-b9a3b96455ad"
      },
      "execution_count": null,
      "outputs": [
        {
          "output_type": "execute_result",
          "data": {
            "text/plain": [
              "(tensor([[1, 2, 3, 4, 5, 6, 7]]), torch.Size([1, 7]))"
            ]
          },
          "metadata": {},
          "execution_count": 172
        }
      ]
    },
    {
      "cell_type": "markdown",
      "source": [
        "Can also do similar thing with torch.view. But torch.view creates a new view of the same tensor so if we change the view we also change the original tensor."
      ],
      "metadata": {
        "id": "OThm8pyYuSMK"
      }
    },
    {
      "cell_type": "code",
      "source": [
        "z = x.view(1, 7)\n",
        "z"
      ],
      "metadata": {
        "colab": {
          "base_uri": "https://localhost:8080/"
        },
        "id": "rjq3k3Iwud1l",
        "outputId": "a9202716-abef-4fa2-9607-8f8cd35ff6e8"
      },
      "execution_count": null,
      "outputs": [
        {
          "output_type": "execute_result",
          "data": {
            "text/plain": [
              "tensor([[1, 2, 3, 4, 5, 6, 7]])"
            ]
          },
          "metadata": {},
          "execution_count": 173
        }
      ]
    },
    {
      "cell_type": "code",
      "source": [
        "z[:, 0] = 5\n",
        "z, x #x changed as well"
      ],
      "metadata": {
        "colab": {
          "base_uri": "https://localhost:8080/"
        },
        "id": "koPMjs4Huhay",
        "outputId": "8877d8e8-912f-4b57-b611-c1f1e3c7b8a1"
      },
      "execution_count": null,
      "outputs": [
        {
          "output_type": "execute_result",
          "data": {
            "text/plain": [
              "(tensor([[5, 2, 3, 4, 5, 6, 7]]), tensor([5, 2, 3, 4, 5, 6, 7]))"
            ]
          },
          "metadata": {},
          "execution_count": 174
        }
      ]
    },
    {
      "cell_type": "markdown",
      "source": [
        "So be careful.\n",
        "\n",
        "If we want to stack tensors along a specific dimension"
      ],
      "metadata": {
        "id": "BPp-faxCulC0"
      }
    },
    {
      "cell_type": "code",
      "source": [
        "x_stacked = torch.stack([x, x, x, x], dim=0)\n",
        "x_stacked"
      ],
      "metadata": {
        "colab": {
          "base_uri": "https://localhost:8080/"
        },
        "id": "TO-__KNSupVI",
        "outputId": "e885f800-9544-47c6-9e12-9124d262902e"
      },
      "execution_count": null,
      "outputs": [
        {
          "output_type": "execute_result",
          "data": {
            "text/plain": [
              "tensor([[5, 2, 3, 4, 5, 6, 7],\n",
              "        [5, 2, 3, 4, 5, 6, 7],\n",
              "        [5, 2, 3, 4, 5, 6, 7],\n",
              "        [5, 2, 3, 4, 5, 6, 7]])"
            ]
          },
          "metadata": {},
          "execution_count": 175
        }
      ]
    },
    {
      "cell_type": "code",
      "source": [
        "x_stacked = torch.stack([x, x, x, x], dim=1)\n",
        "x_stacked"
      ],
      "metadata": {
        "colab": {
          "base_uri": "https://localhost:8080/"
        },
        "id": "o-Ib6PvVFcMy",
        "outputId": "35f998e3-a35a-4f35-be41-3fed200c027b"
      },
      "execution_count": null,
      "outputs": [
        {
          "output_type": "execute_result",
          "data": {
            "text/plain": [
              "tensor([[5, 5, 5, 5],\n",
              "        [2, 2, 2, 2],\n",
              "        [3, 3, 3, 3],\n",
              "        [4, 4, 4, 4],\n",
              "        [5, 5, 5, 5],\n",
              "        [6, 6, 6, 6],\n",
              "        [7, 7, 7, 7]])"
            ]
          },
          "metadata": {},
          "execution_count": 176
        }
      ]
    },
    {
      "cell_type": "markdown",
      "source": [
        "Squeezing tensors. Oh btw u can also pass negative numbers in the dim argument.\n",
        "\n",
        "Squeezing removes all instances of dimension 1."
      ],
      "metadata": {
        "id": "vKFTg8jYFabn"
      }
    },
    {
      "cell_type": "code",
      "source": [
        "x = torch.rand(3, 3, 1, 2, 4, 2, 1)\n",
        "x.shape, x.squeeze().shape"
      ],
      "metadata": {
        "colab": {
          "base_uri": "https://localhost:8080/"
        },
        "id": "UtKHrgyYFvsU",
        "outputId": "80efadcc-52bf-4e39-a7b9-2f66a08f05c4"
      },
      "execution_count": null,
      "outputs": [
        {
          "output_type": "execute_result",
          "data": {
            "text/plain": [
              "(torch.Size([3, 3, 1, 2, 4, 2, 1]), torch.Size([3, 3, 2, 4, 2]))"
            ]
          },
          "metadata": {},
          "execution_count": 177
        }
      ]
    },
    {
      "cell_type": "markdown",
      "source": [
        "You can also add dimensions along a specified axis by using unsqueeze."
      ],
      "metadata": {
        "id": "hVj8BHLqF-tr"
      }
    },
    {
      "cell_type": "code",
      "source": [
        "x.squeeze().unsqueeze(dim=0).shape #dim 0 is first entry"
      ],
      "metadata": {
        "colab": {
          "base_uri": "https://localhost:8080/"
        },
        "id": "dxNTZlwdGCq-",
        "outputId": "99e910f5-721c-478d-aebf-40e09824916d"
      },
      "execution_count": null,
      "outputs": [
        {
          "output_type": "execute_result",
          "data": {
            "text/plain": [
              "torch.Size([1, 3, 3, 2, 4, 2])"
            ]
          },
          "metadata": {},
          "execution_count": 178
        }
      ]
    },
    {
      "cell_type": "markdown",
      "source": [
        "You can also rearrange the order of axes values with torch.permute method\n",
        "\n",
        "for example (2, 0, 1) means 0 --> 1, 2--> 0 and 1 --> 2"
      ],
      "metadata": {
        "id": "u7cE4zMLGYNU"
      }
    },
    {
      "cell_type": "code",
      "source": [
        "x_original = torch.rand((4, 3))\n",
        "x_permuted = x_original.permute(1, 0)\n",
        "x_original.shape, x_permuted.shape"
      ],
      "metadata": {
        "colab": {
          "base_uri": "https://localhost:8080/"
        },
        "id": "WMdR3FjiGoPU",
        "outputId": "2aadc37b-cda0-438d-f2a2-ce931dc2352e"
      },
      "execution_count": null,
      "outputs": [
        {
          "output_type": "execute_result",
          "data": {
            "text/plain": [
              "(torch.Size([4, 3]), torch.Size([3, 4]))"
            ]
          },
          "metadata": {},
          "execution_count": 179
        }
      ]
    },
    {
      "cell_type": "markdown",
      "source": [
        "Note: permuting returns a view so changing it will change the original."
      ],
      "metadata": {
        "id": "lRVPQIYQG6tL"
      }
    },
    {
      "cell_type": "markdown",
      "source": [
        "**Indexing**"
      ],
      "metadata": {
        "id": "lU6a6rRwHBBF"
      }
    },
    {
      "cell_type": "markdown",
      "source": [
        "Select data same way as traditional python"
      ],
      "metadata": {
        "id": "wEF3zzCQHCl1"
      }
    },
    {
      "cell_type": "code",
      "source": [
        "x = torch.arange(1, 10).reshape(1, 3, 3)\n",
        "print(x, x[0], x[0][0], x[0][0][0])\n",
        "print(x[:, 0], x[:, :, 0])"
      ],
      "metadata": {
        "colab": {
          "base_uri": "https://localhost:8080/"
        },
        "id": "HdHyffIIHI8F",
        "outputId": "99fe9043-47b8-4cfa-c952-21da5c107e9b"
      },
      "execution_count": null,
      "outputs": [
        {
          "output_type": "stream",
          "name": "stdout",
          "text": [
            "tensor([[[1, 2, 3],\n",
            "         [4, 5, 6],\n",
            "         [7, 8, 9]]]) tensor([[1, 2, 3],\n",
            "        [4, 5, 6],\n",
            "        [7, 8, 9]]) tensor([1, 2, 3]) tensor(1)\n",
            "tensor([[1, 2, 3]]) tensor([[1, 4, 7]])\n"
          ]
        }
      ]
    },
    {
      "cell_type": "markdown",
      "source": [
        "**Converting to/from numpy**\n",
        "\n",
        "To convert from numpy array, do torch.from_numpy\n",
        "\n",
        "to go from tensor to numpy to x.numpy()"
      ],
      "metadata": {
        "id": "ltzXlXClHupq"
      }
    },
    {
      "cell_type": "code",
      "source": [
        "import numpy as np\n",
        "array = np.arange(1, 80)\n",
        "tensor = torch.from_numpy(array)\n",
        "array, tensor"
      ],
      "metadata": {
        "colab": {
          "base_uri": "https://localhost:8080/"
        },
        "id": "2YTXbIUhH88E",
        "outputId": "92491d0b-ffb5-41c6-8690-2f54485b5f65"
      },
      "execution_count": null,
      "outputs": [
        {
          "output_type": "execute_result",
          "data": {
            "text/plain": [
              "(array([ 1,  2,  3,  4,  5,  6,  7,  8,  9, 10, 11, 12, 13, 14, 15, 16, 17,\n",
              "        18, 19, 20, 21, 22, 23, 24, 25, 26, 27, 28, 29, 30, 31, 32, 33, 34,\n",
              "        35, 36, 37, 38, 39, 40, 41, 42, 43, 44, 45, 46, 47, 48, 49, 50, 51,\n",
              "        52, 53, 54, 55, 56, 57, 58, 59, 60, 61, 62, 63, 64, 65, 66, 67, 68,\n",
              "        69, 70, 71, 72, 73, 74, 75, 76, 77, 78, 79]),\n",
              " tensor([ 1,  2,  3,  4,  5,  6,  7,  8,  9, 10, 11, 12, 13, 14, 15, 16, 17, 18,\n",
              "         19, 20, 21, 22, 23, 24, 25, 26, 27, 28, 29, 30, 31, 32, 33, 34, 35, 36,\n",
              "         37, 38, 39, 40, 41, 42, 43, 44, 45, 46, 47, 48, 49, 50, 51, 52, 53, 54,\n",
              "         55, 56, 57, 58, 59, 60, 61, 62, 63, 64, 65, 66, 67, 68, 69, 70, 71, 72,\n",
              "         73, 74, 75, 76, 77, 78, 79]))"
            ]
          },
          "metadata": {},
          "execution_count": 181
        }
      ]
    },
    {
      "cell_type": "markdown",
      "source": [
        "If we change tensor we dont need to worry about array changing."
      ],
      "metadata": {
        "id": "SrwIWF-yIIDd"
      }
    },
    {
      "cell_type": "code",
      "source": [
        "np_array = tensor.numpy()\n",
        "np_array"
      ],
      "metadata": {
        "colab": {
          "base_uri": "https://localhost:8080/"
        },
        "id": "1csqm5A3IOa6",
        "outputId": "77a1a4c6-48c1-4db9-897b-c4921e503f0b"
      },
      "execution_count": null,
      "outputs": [
        {
          "output_type": "execute_result",
          "data": {
            "text/plain": [
              "array([ 1,  2,  3,  4,  5,  6,  7,  8,  9, 10, 11, 12, 13, 14, 15, 16, 17,\n",
              "       18, 19, 20, 21, 22, 23, 24, 25, 26, 27, 28, 29, 30, 31, 32, 33, 34,\n",
              "       35, 36, 37, 38, 39, 40, 41, 42, 43, 44, 45, 46, 47, 48, 49, 50, 51,\n",
              "       52, 53, 54, 55, 56, 57, 58, 59, 60, 61, 62, 63, 64, 65, 66, 67, 68,\n",
              "       69, 70, 71, 72, 73, 74, 75, 76, 77, 78, 79])"
            ]
          },
          "metadata": {},
          "execution_count": 182
        }
      ]
    },
    {
      "cell_type": "markdown",
      "source": [
        "**Other stuff**\n",
        "\n",
        "Checking if tensors are equal element wise"
      ],
      "metadata": {
        "id": "U_tZd5y_Idq8"
      }
    },
    {
      "cell_type": "code",
      "source": [
        "A = torch.rand(3, 3)\n",
        "B = torch.rand(3, 3)\n",
        "A == B"
      ],
      "metadata": {
        "colab": {
          "base_uri": "https://localhost:8080/"
        },
        "id": "dgf-gA7sIjAS",
        "outputId": "22c8a4ef-80b7-44ea-ab2e-ccb3686124a8"
      },
      "execution_count": null,
      "outputs": [
        {
          "output_type": "execute_result",
          "data": {
            "text/plain": [
              "tensor([[False, False, False],\n",
              "        [False, False, False],\n",
              "        [False, False, False]])"
            ]
          },
          "metadata": {},
          "execution_count": 183
        }
      ]
    },
    {
      "cell_type": "markdown",
      "source": [
        "Fixing randomness"
      ],
      "metadata": {
        "id": "gaSctFGhInsj"
      }
    },
    {
      "cell_type": "code",
      "source": [
        "torch.manual_seed(seed=42)\n",
        "\n",
        "x = torch.rand(3, 4)\n",
        "z = torch.rand((3, 4))\n",
        "\n",
        "torch.manual_seed(seed=42) #Have to do it for each random operation\n",
        "\n",
        "y = torch.rand(3, 4)\n",
        "\n",
        "x == y, y == z"
      ],
      "metadata": {
        "colab": {
          "base_uri": "https://localhost:8080/"
        },
        "id": "ZSJPsQPKJ9Ok",
        "outputId": "63b7265b-ce2a-480e-9c7d-b3dbac29620b"
      },
      "execution_count": null,
      "outputs": [
        {
          "output_type": "execute_result",
          "data": {
            "text/plain": [
              "(tensor([[True, True, True, True],\n",
              "         [True, True, True, True],\n",
              "         [True, True, True, True]]),\n",
              " tensor([[False, False, False, False],\n",
              "         [False, False, False, False],\n",
              "         [False, False, False, False]]))"
            ]
          },
          "metadata": {},
          "execution_count": 184
        }
      ]
    },
    {
      "cell_type": "markdown",
      "source": [
        "##GPU"
      ],
      "metadata": {
        "id": "Bko9X6_5KQC5"
      }
    },
    {
      "cell_type": "code",
      "source": [
        "device = \"cuda\" if torch.cuda.is_available() else \"cpu\"\n",
        "device"
      ],
      "metadata": {
        "colab": {
          "base_uri": "https://localhost:8080/",
          "height": 36
        },
        "id": "-LtjAM8SKzHi",
        "outputId": "ac5e76af-90ee-4aab-88f4-cbb4fe7c3b75"
      },
      "execution_count": null,
      "outputs": [
        {
          "output_type": "execute_result",
          "data": {
            "text/plain": [
              "'cuda'"
            ],
            "application/vnd.google.colaboratory.intrinsic+json": {
              "type": "string"
            }
          },
          "metadata": {},
          "execution_count": 185
        }
      ]
    },
    {
      "cell_type": "code",
      "source": [
        "#Count the number of GPUs\n",
        "\n",
        "torch.cuda.device_count()"
      ],
      "metadata": {
        "colab": {
          "base_uri": "https://localhost:8080/"
        },
        "id": "zmbcocLQLDPa",
        "outputId": "e78e5a87-814f-44ce-e30e-bf8efeca58ae"
      },
      "execution_count": null,
      "outputs": [
        {
          "output_type": "execute_result",
          "data": {
            "text/plain": [
              "1"
            ]
          },
          "metadata": {},
          "execution_count": 186
        }
      ]
    },
    {
      "cell_type": "markdown",
      "source": [
        "Now we need to put tensors and models on gpu. What we do is we call .to(device)"
      ],
      "metadata": {
        "id": "H6xRG2oGLNkG"
      }
    },
    {
      "cell_type": "code",
      "source": [
        "tensor = torch.tensor([1, 2, 3])\n",
        "\n",
        "print(tensor, tensor.device)\n",
        "tensor_on_gpu = tensor.to(device)\n",
        "tensor_on_gpu #The index after cuda tells u which GPU its stored on."
      ],
      "metadata": {
        "colab": {
          "base_uri": "https://localhost:8080/"
        },
        "id": "xJyBs5xTLTQp",
        "outputId": "4ae3bc11-58b6-4e83-bd6c-cf700c9b15a9"
      },
      "execution_count": null,
      "outputs": [
        {
          "output_type": "stream",
          "name": "stdout",
          "text": [
            "tensor([1, 2, 3]) cpu\n"
          ]
        },
        {
          "output_type": "execute_result",
          "data": {
            "text/plain": [
              "tensor([1, 2, 3], device='cuda:0')"
            ]
          },
          "metadata": {},
          "execution_count": 187
        }
      ]
    },
    {
      "cell_type": "markdown",
      "source": [
        "To move tensor back on CPU, which we need it to do if we want to interact with tensors with numpy. Numpy does not use the GPU."
      ],
      "metadata": {
        "id": "J7tLfLsRLjGo"
      }
    },
    {
      "cell_type": "code",
      "source": [
        "#tensor_on_gpu.numpy() This will give error\n",
        "\n",
        "tensor_back_on_cpu = tensor_on_gpu.cpu().numpy() #We did .cpu\n",
        "tensor_back_on_cpu\n",
        "\n",
        "#The original copy is still on the GPU"
      ],
      "metadata": {
        "colab": {
          "base_uri": "https://localhost:8080/"
        },
        "id": "m8b_o9wPLsg3",
        "outputId": "49cc5568-537c-4c30-d813-8c26997f3a58"
      },
      "execution_count": null,
      "outputs": [
        {
          "output_type": "execute_result",
          "data": {
            "text/plain": [
              "array([1, 2, 3])"
            ]
          },
          "metadata": {},
          "execution_count": 188
        }
      ]
    },
    {
      "cell_type": "markdown",
      "source": [
        "#PyTorch Modelling Fundamentals"
      ],
      "metadata": {
        "id": "46dgTa6qMaD-"
      }
    },
    {
      "cell_type": "code",
      "source": [
        "from torch import nn\n",
        "import matplotlib.pyplot as plt"
      ],
      "metadata": {
        "id": "CjRcgnbJMiGu"
      },
      "execution_count": null,
      "outputs": []
    },
    {
      "cell_type": "markdown",
      "source": [
        "##Data Preparation"
      ],
      "metadata": {
        "id": "ab_NVBWjMcoH"
      }
    },
    {
      "cell_type": "markdown",
      "source": [
        "Lets create a linear regression dataset which we'll train with pytorch."
      ],
      "metadata": {
        "id": "zuk2m5-HMx31"
      }
    },
    {
      "cell_type": "code",
      "source": [
        "weight = 0.7\n",
        "bias = 0.3\n",
        "\n",
        "X = torch.arange(0, 1, 0.02).unsqueeze(dim=1) #make 2D so easier to do matmul\n",
        "y = weight * X + bias\n",
        "\n",
        "X[:10], y[:10]"
      ],
      "metadata": {
        "colab": {
          "base_uri": "https://localhost:8080/"
        },
        "id": "40_KwnJIM1of",
        "outputId": "fc856086-1161-4d33-8e3d-d4ef61aaeb5e"
      },
      "execution_count": null,
      "outputs": [
        {
          "output_type": "execute_result",
          "data": {
            "text/plain": [
              "(tensor([[0.0000],\n",
              "         [0.0200],\n",
              "         [0.0400],\n",
              "         [0.0600],\n",
              "         [0.0800],\n",
              "         [0.1000],\n",
              "         [0.1200],\n",
              "         [0.1400],\n",
              "         [0.1600],\n",
              "         [0.1800]]),\n",
              " tensor([[0.3000],\n",
              "         [0.3140],\n",
              "         [0.3280],\n",
              "         [0.3420],\n",
              "         [0.3560],\n",
              "         [0.3700],\n",
              "         [0.3840],\n",
              "         [0.3980],\n",
              "         [0.4120],\n",
              "         [0.4260]]))"
            ]
          },
          "metadata": {},
          "execution_count": 190
        }
      ]
    },
    {
      "cell_type": "code",
      "source": [
        "from sklearn.model_selection import train_test_split\n",
        "\n",
        "X_train, X_test, y_train, y_test = train_test_split(X, y, test_size=0.2, random_state=42)\n",
        "\n",
        "X_train.shape, y_train.shape, X_test.shape, y_test.shape"
      ],
      "metadata": {
        "colab": {
          "base_uri": "https://localhost:8080/"
        },
        "id": "Mly0zSKbNJAl",
        "outputId": "55c4bd4b-fa71-4a2e-fae8-698569fe136e"
      },
      "execution_count": null,
      "outputs": [
        {
          "output_type": "execute_result",
          "data": {
            "text/plain": [
              "(torch.Size([40, 1]),\n",
              " torch.Size([40, 1]),\n",
              " torch.Size([10, 1]),\n",
              " torch.Size([10, 1]))"
            ]
          },
          "metadata": {},
          "execution_count": 191
        }
      ]
    },
    {
      "cell_type": "code",
      "source": [
        "#Visualize the data\n",
        "\n",
        "def plot_predictions(train_data=X_train, train_labels=y_train,\n",
        "                     test_data=X_test, test_labels=y_test, predictions=None):\n",
        "  plt.figure(figsize=(10, 7))\n",
        "  plt.scatter(train_data, train_labels, c=\"b\", s=4, label=\"Training data\")\n",
        "  plt.scatter(test_data, test_labels, c=\"g\", s=4, label=\"Testing data\")\n",
        "  if predictions is not None:\n",
        "    plt.scatter(test_data, predictions, c=\"r\", s=4, label=\"Predictions\")\n",
        "\n",
        "  plt.legend(prop={\"size\": 14})\n",
        "\n",
        "plot_predictions()"
      ],
      "metadata": {
        "colab": {
          "base_uri": "https://localhost:8080/",
          "height": 599
        },
        "id": "Xgima3Q1NvAv",
        "outputId": "b8cf420d-1739-4d62-f6ec-7f20dbfabadd"
      },
      "execution_count": null,
      "outputs": [
        {
          "output_type": "display_data",
          "data": {
            "text/plain": [
              "<Figure size 1000x700 with 1 Axes>"
            ],
            "image/png": "[encoded data removed]"
          },
          "metadata": {}
        }
      ]
    },
    {
      "cell_type": "markdown",
      "source": [
        "##Model Building and Training"
      ],
      "metadata": {
        "id": "9hVJMcgmOMN0"
      }
    },
    {
      "cell_type": "markdown",
      "source": [
        "PyTorch has 4 essential modules to make any kind of neural network (torch.nn, torch.optim, torch.utils.data.Dataset, torch.utils.data.DataLoader)\n",
        "\n",
        "torch.nn contains all the building blocks for computational graphs\n",
        "\n",
        "torch.nn.Module is the base class for all neural network modules, all building blocks for neural networks are subclasses. Whenever we build a neural network we should subclass nn.Module. Everything from pytorch inherits from this. This also requires a forward method to be implemented, to define the computation that will take place on the data passed to the particular nn.Module\n",
        "\n",
        "torch.nn.Parameter contains the smaller parameters like weights and biases. It is used to store tensors that can be used with nn.Module. If requires_grad is set to True, gradients are calculated automatically (known as autograd), improves optimization. It is a type of tensor that is considered a module parameter. For smaller models we intialize just parameters, but for larger models we can initialize whole layers like the nn.Linear\n",
        "\n",
        "torch.optim contains various optimization algorithms telling models how to improve gradient descent.\n",
        "\n",
        "\n",
        "randn draws from a standard normal distribution. First argument is shape"
      ],
      "metadata": {
        "id": "CaQFe9XgOQKt"
      }
    },
    {
      "cell_type": "code",
      "source": [
        "class LinearRegressionModule(nn.Module):\n",
        "    def __init__(self):\n",
        "      super().__init__() #inherits the class\n",
        "      self.weights = nn.Parameter(torch.randn(1, requires_grad=True, dtype=torch.float))\n",
        "      self.bias = nn.Parameter(torch.randn(1, requires_grad=True, dtype=torch.float))\n",
        "\n",
        "    def forward(self, x: torch.Tensor) -> torch.Tensor: #x is of type torch tensor and returns torch tensor\n",
        "      return self.weights * x + self.bias"
      ],
      "metadata": {
        "id": "LXwK6m4dO7mG"
      },
      "execution_count": null,
      "outputs": []
    },
    {
      "cell_type": "code",
      "source": [
        "torch.manual_seed(42)\n",
        "\n",
        "model = LinearRegressionModule()\n",
        "list(model.parameters()) #returns the parameters of the model"
      ],
      "metadata": {
        "colab": {
          "base_uri": "https://localhost:8080/"
        },
        "id": "mKdJIfpHSsPZ",
        "outputId": "8c4322c4-2383-45b0-dbdb-8995436a199b"
      },
      "execution_count": null,
      "outputs": [
        {
          "output_type": "execute_result",
          "data": {
            "text/plain": [
              "[Parameter containing:\n",
              " tensor([0.3367], requires_grad=True),\n",
              " Parameter containing:\n",
              " tensor([0.1288], requires_grad=True)]"
            ]
          },
          "metadata": {},
          "execution_count": 194
        }
      ]
    },
    {
      "cell_type": "markdown",
      "source": [
        "We can also get the state of the model, essentially listing the names of our parameters."
      ],
      "metadata": {
        "id": "dggYFs0aS8pI"
      }
    },
    {
      "cell_type": "code",
      "source": [
        "model.state_dict()"
      ],
      "metadata": {
        "colab": {
          "base_uri": "https://localhost:8080/"
        },
        "id": "0NjMCuE_TBX_",
        "outputId": "ee4b9946-2c50-4431-ba12-c93d397b81f5"
      },
      "execution_count": null,
      "outputs": [
        {
          "output_type": "execute_result",
          "data": {
            "text/plain": [
              "OrderedDict([('weights', tensor([0.3367])), ('bias', tensor([0.1288]))])"
            ]
          },
          "metadata": {},
          "execution_count": 195
        }
      ]
    },
    {
      "cell_type": "markdown",
      "source": [
        "**torch.inference_mode()**\n",
        "\n",
        "This can be used for inference. When we pass data to our model, itll go through the forward method and produce a result.\n",
        "\n",
        "We will use the torch.inference_mode as a context manager, as that is what it is. We do this specifically to turn off gradient tracking to make forward-passes faster (more optimal).\n",
        "\n",
        "In older pytorch code, you'll see torch.no_grad() which is similar but torch.inference_mode() is newer and preferred"
      ],
      "metadata": {
        "id": "2B75OsKgTqr6"
      }
    },
    {
      "cell_type": "code",
      "source": [
        "with torch.inference_mode():\n",
        "  y_preds = model(X_test) #Does the forward method automatically\n",
        "\n",
        "#In older code\n",
        "#with torch.no_grad():\n",
        "#   y_preds = model(X_test)\n",
        "\n",
        "#Or define a function and use these as a decorator.\n",
        "y_preds, y_test"
      ],
      "metadata": {
        "colab": {
          "base_uri": "https://localhost:8080/"
        },
        "id": "D4TDwYRRUROn",
        "outputId": "f62b6b1e-f6e9-489d-a93c-0f68e079a209"
      },
      "execution_count": null,
      "outputs": [
        {
          "output_type": "execute_result",
          "data": {
            "text/plain": [
              "(tensor([[0.2163],\n",
              "         [0.3914],\n",
              "         [0.3308],\n",
              "         [0.4318],\n",
              "         [0.2433],\n",
              "         [0.4520],\n",
              "         [0.3039],\n",
              "         [0.2972],\n",
              "         [0.3443],\n",
              "         [0.2568]]),\n",
              " tensor([[0.4820],\n",
              "         [0.8460],\n",
              "         [0.7200],\n",
              "         [0.9300],\n",
              "         [0.5380],\n",
              "         [0.9720],\n",
              "         [0.6640],\n",
              "         [0.6500],\n",
              "         [0.7480],\n",
              "         [0.5660]]))"
            ]
          },
          "metadata": {},
          "execution_count": 196
        }
      ]
    },
    {
      "cell_type": "markdown",
      "source": [
        "Obviously predictions is poor as theres no training"
      ],
      "metadata": {
        "id": "MTIElrT7U-fo"
      }
    },
    {
      "cell_type": "code",
      "source": [
        "plot_predictions(predictions = y_preds)"
      ],
      "metadata": {
        "colab": {
          "base_uri": "https://localhost:8080/",
          "height": 599
        },
        "id": "uYS2qU6iVC7-",
        "outputId": "e379bce3-3ce7-429d-8f4f-de9054505565"
      },
      "execution_count": null,
      "outputs": [
        {
          "output_type": "display_data",
          "data": {
            "text/plain": [
              "<Figure size 1000x700 with 1 Axes>"
            ],
            "image/png": "[encoded data removed]"
          },
          "metadata": {}
        }
      ]
    },
    {
      "cell_type": "markdown",
      "source": [
        "Create a loss and optimizer"
      ],
      "metadata": {
        "id": "0a4rKE9ZVLX2"
      }
    },
    {
      "cell_type": "markdown",
      "source": [
        "Mean absolute error is known as torch.nn.L1Loss()\n",
        "\n",
        "Lets use SGD optimizer. It takes arguments params and lr"
      ],
      "metadata": {
        "id": "9PuBiMIuVSOv"
      }
    },
    {
      "cell_type": "code",
      "source": [
        "loss_fn = nn.L1Loss() #Declare the loss function\n",
        "optimizer = torch.optim.SGD(params=model.parameters(), lr=0.01)"
      ],
      "metadata": {
        "id": "2cMdvcGaVM1n"
      },
      "execution_count": null,
      "outputs": []
    },
    {
      "cell_type": "code",
      "source": [
        "torch.manual_seed(42)\n",
        "\n",
        "epochs = 100\n",
        "\n",
        "train_loss = []\n",
        "test_loss = []\n",
        "epoch_count = []\n",
        "\n",
        "for epoch in range(epochs):\n",
        "  #Place the model in training mode\n",
        "\n",
        "  model.train()\n",
        "\n",
        "  y_pred = model(X_train)\n",
        "\n",
        "  loss = loss_fn(y_pred, y_train)\n",
        "\n",
        "  optimizer.zero_grad() #Need to zero the gradients as they accumulate every epoch\n",
        "\n",
        "  loss.backward()\n",
        "\n",
        "  optimizer.step() #Update the optimizer\n",
        "\n",
        "  #Testing\n",
        "  model.eval() #Turn off gradient tracking, place in eval mode\n",
        "\n",
        "  with torch.inference_mode():\n",
        "    test_pred = model(X_test)\n",
        "    loss_test = loss_fn(test_pred, y_test.type(torch.float))\n",
        "\n",
        "  if epoch % 10 == 0:\n",
        "    epoch_count.append(epoch)\n",
        "    train_loss.append(loss.detach().numpy()) #.detach creates new tensor but wont track gradients\n",
        "    test_loss.append(loss_test.detach().numpy())\n",
        "    print(f\"Epoch: {epoch} | MAE Train Loss: {loss} | MAE Test Loss: {loss_test}\")"
      ],
      "metadata": {
        "colab": {
          "base_uri": "https://localhost:8080/"
        },
        "id": "SyyW-_QXWQjA",
        "outputId": "a1ce97c0-0e69-414b-80ff-872b49ebe48d"
      },
      "execution_count": null,
      "outputs": [
        {
          "output_type": "stream",
          "name": "stdout",
          "text": [
            "Epoch: 0 | MAE Train Loss: 0.340311199426651 | MAE Test Loss: 0.3720795214176178\n",
            "Epoch: 10 | MAE Train Loss: 0.21864214539527893 | MAE Test Loss: 0.24470801651477814\n",
            "Epoch: 20 | MAE Train Loss: 0.10375527292490005 | MAE Test Loss: 0.12293665111064911\n",
            "Epoch: 30 | MAE Train Loss: 0.06399796903133392 | MAE Test Loss: 0.06073009967803955\n",
            "Epoch: 40 | MAE Train Loss: 0.05161098390817642 | MAE Test Loss: 0.04132990166544914\n",
            "Epoch: 50 | MAE Train Loss: 0.04540504142642021 | MAE Test Loss: 0.03398849442601204\n",
            "Epoch: 60 | MAE Train Loss: 0.03980403393507004 | MAE Test Loss: 0.029580067843198776\n",
            "Epoch: 70 | MAE Train Loss: 0.034203048795461655 | MAE Test Loss: 0.02517164871096611\n",
            "Epoch: 80 | MAE Train Loss: 0.028602052479982376 | MAE Test Loss: 0.020763223990797997\n",
            "Epoch: 90 | MAE Train Loss: 0.02300105430185795 | MAE Test Loss: 0.016354799270629883\n"
          ]
        }
      ]
    },
    {
      "cell_type": "code",
      "source": [
        "plt.plot(epoch_count, train_loss, label=\"Train loss\")\n",
        "plt.plot(epoch_count, test_loss, label=\"Test loss\")\n",
        "plt.title(\"Training and test loss curves\")\n",
        "plt.ylabel(\"Loss\")\n",
        "plt.xlabel(\"Epochs\")\n",
        "plt.legend();"
      ],
      "metadata": {
        "colab": {
          "base_uri": "https://localhost:8080/",
          "height": 472
        },
        "id": "9lUNeHXRXMEi",
        "outputId": "0a083c5f-e6bb-4bf5-b8f1-7eca4e3d793d"
      },
      "execution_count": null,
      "outputs": [
        {
          "output_type": "display_data",
          "data": {
            "text/plain": [
              "<Figure size 640x480 with 1 Axes>"
            ],
            "image/png": "[encoded data removed]"
          },
          "metadata": {}
        }
      ]
    },
    {
      "cell_type": "code",
      "source": [
        "print(model.state_dict())\n",
        "print(f\"weights: {weight}, bias: {bias}\")"
      ],
      "metadata": {
        "colab": {
          "base_uri": "https://localhost:8080/"
        },
        "id": "FeXAE2jMX0K0",
        "outputId": "7eaa85a4-c827-49ba-9e99-ee84a396ff8f"
      },
      "execution_count": null,
      "outputs": [
        {
          "output_type": "stream",
          "name": "stdout",
          "text": [
            "OrderedDict([('weights', tensor([0.6344])), ('bias', tensor([0.3333]))])\n",
            "weights: 0.7, bias: 0.3\n"
          ]
        }
      ]
    },
    {
      "cell_type": "markdown",
      "source": [
        "All predictions should be made with objects on the same device e.g. data and model on GPU only or data and model on CPU only."
      ],
      "metadata": {
        "id": "kmGSfZJ5YYu7"
      }
    },
    {
      "cell_type": "code",
      "source": [
        "model.eval()\n",
        "\n",
        "with torch.inference_mode():\n",
        "  y_preds_new = model(X_test)\n",
        "\n",
        "plot_predictions(predictions=y_preds_new)"
      ],
      "metadata": {
        "colab": {
          "base_uri": "https://localhost:8080/",
          "height": 599
        },
        "id": "eGv71xgVYThL",
        "outputId": "91319ee8-7d1e-4723-aee6-5afd6d019794"
      },
      "execution_count": null,
      "outputs": [
        {
          "output_type": "display_data",
          "data": {
            "text/plain": [
              "<Figure size 1000x700 with 1 Axes>"
            ],
            "image/png": "[encoded data removed]"
          },
          "metadata": {}
        }
      ]
    },
    {
      "cell_type": "markdown",
      "source": [
        "##Saving and loading a model"
      ],
      "metadata": {
        "id": "YJB8b53hYjPE"
      }
    },
    {
      "cell_type": "markdown",
      "source": [
        "The best way to store a model is to store state_dict"
      ],
      "metadata": {
        "id": "OsMoSwccYr78"
      }
    },
    {
      "cell_type": "code",
      "source": [
        "from pathlib import Path #Create a directory\n",
        "\n",
        "MODEL_PATH = Path(\"models\")\n",
        "MODEL_PATH.mkdir(parents=True, exist_ok=True)\n",
        "\n",
        "MODEL_NAME = \"01_pytorch_workflow_model_0.pth\"\n",
        "MODEL_SAVE_PATH = MODEL_PATH / MODEL_NAME\n",
        "\n",
        "#This only saves the learnt parameters\n",
        "\n",
        "torch.save(obj=model.state_dict(), f=MODEL_SAVE_PATH)"
      ],
      "metadata": {
        "id": "ONx0kif0Yk-9"
      },
      "execution_count": null,
      "outputs": []
    },
    {
      "cell_type": "markdown",
      "source": [
        "Now to load we call torch.load inside torch.module.load_state_dict as we only saved state_dict the dictionary of learnt parameters, not the entire model. So we have to create instance of class still."
      ],
      "metadata": {
        "id": "XOw1zsINZQB7"
      }
    },
    {
      "cell_type": "code",
      "source": [
        "loaded_model = LinearRegressionModule()\n",
        "\n",
        "loaded_model.load_state_dict(torch.load(f=MODEL_SAVE_PATH))\n",
        "\n",
        "loaded_model.eval()\n",
        "\n",
        "with torch.inference_mode():\n",
        "    loaded_model_preds = loaded_model(X_test)\n",
        "\n",
        "y_preds_new == loaded_model_preds"
      ],
      "metadata": {
        "colab": {
          "base_uri": "https://localhost:8080/"
        },
        "id": "3LCUI68BZkOv",
        "outputId": "cde11648-63e8-4101-913e-dbebd526d699"
      },
      "execution_count": null,
      "outputs": [
        {
          "output_type": "stream",
          "name": "stderr",
          "text": [
            "<ipython-input-204-c3206967d662>:3: FutureWarning: You are using `torch.load` with `weights_only=False` (the current default value), which uses the default pickle module implicitly. It is possible to construct malicious pickle data which will execute arbitrary code during unpickling (See https://github.com/pytorch/pytorch/blob/main/SECURITY.md#untrusted-models for more details). In a future release, the default value for `weights_only` will be flipped to `True`. This limits the functions that could be executed during unpickling. Arbitrary objects will no longer be allowed to be loaded via this mode unless they are explicitly allowlisted by the user via `torch.serialization.add_safe_globals`. We recommend you start setting `weights_only=True` for any use case where you don't have full control of the loaded file. Please open an issue on GitHub for any issues related to this experimental feature.\n",
            "  loaded_model.load_state_dict(torch.load(f=MODEL_SAVE_PATH))\n"
          ]
        },
        {
          "output_type": "execute_result",
          "data": {
            "text/plain": [
              "tensor([[True],\n",
              "        [True],\n",
              "        [True],\n",
              "        [True],\n",
              "        [True],\n",
              "        [True],\n",
              "        [True],\n",
              "        [True],\n",
              "        [True],\n",
              "        [True]])"
            ]
          },
          "metadata": {},
          "execution_count": 204
        }
      ]
    },
    {
      "cell_type": "markdown",
      "source": [
        "Now put it all together but allow GPU"
      ],
      "metadata": {
        "id": "vJiZEPvGZ9W7"
      }
    },
    {
      "cell_type": "code",
      "source": [
        "device = \"cuda\" if torch.cuda.is_available() else \"cpu\"\n",
        "print(f\"Using device: {device}\")\n",
        "\n",
        "# Create weight and bias\n",
        "weight = 0.7\n",
        "bias = 0.3\n",
        "\n",
        "# Create range values\n",
        "start = 0\n",
        "end = 1\n",
        "step = 0.02\n",
        "\n",
        "# Create X and y (features and labels)\n",
        "X = torch.arange(start, end, step).unsqueeze(dim=1) # without unsqueeze, errors will happen later on (shapes within linear layers)\n",
        "y = weight * X + bias\n",
        "\n",
        "train_split = int(0.8 * len(X))\n",
        "X_train, y_train = X[:train_split], y[:train_split]\n",
        "X_test, y_test = X[train_split:], y[train_split:]\n",
        "\n",
        "len(X_train), len(y_train), len(X_test), len(y_test)"
      ],
      "metadata": {
        "colab": {
          "base_uri": "https://localhost:8080/"
        },
        "id": "Y99kCqB6aKzT",
        "outputId": "c452630f-a112-467e-d0ad-456c2a3f2fb9"
      },
      "execution_count": null,
      "outputs": [
        {
          "output_type": "stream",
          "name": "stdout",
          "text": [
            "Using device: cuda\n"
          ]
        },
        {
          "output_type": "execute_result",
          "data": {
            "text/plain": [
              "(40, 40, 10, 10)"
            ]
          },
          "metadata": {},
          "execution_count": 205
        }
      ]
    },
    {
      "cell_type": "markdown",
      "source": [
        "Now instead of defining the weights and biases of our model manually, we will use nn.Linear to do it for us, which is a layer.\n",
        "\n",
        "It takes 2 arguments, in_features is input dimension and out_feature is output dimension"
      ],
      "metadata": {
        "id": "4lUb4mhtaUpT"
      }
    },
    {
      "cell_type": "code",
      "source": [
        "class Model(nn.Module):\n",
        "  def __init__(self):\n",
        "    super().__init__()\n",
        "    self.linear = nn.Linear(in_features=1, out_features=1)\n",
        "\n",
        "  def forward(self, x):\n",
        "    return self.linear(x)\n",
        "\n",
        "torch.manual_seed(42)\n",
        "\n",
        "model_1 = Model()\n",
        "\n",
        "model_1.state_dict()"
      ],
      "metadata": {
        "colab": {
          "base_uri": "https://localhost:8080/"
        },
        "id": "mN-C6IZLaqfz",
        "outputId": "faa9cb80-b5c7-4953-d33b-04c58763134a"
      },
      "execution_count": null,
      "outputs": [
        {
          "output_type": "execute_result",
          "data": {
            "text/plain": [
              "OrderedDict([('linear.weight', tensor([[0.7645]])),\n",
              "             ('linear.bias', tensor([0.8300]))])"
            ]
          },
          "metadata": {},
          "execution_count": 206
        }
      ]
    },
    {
      "cell_type": "markdown",
      "source": [
        "Lets check the models current device"
      ],
      "metadata": {
        "id": "DfCqQGCRa9yo"
      }
    },
    {
      "cell_type": "code",
      "source": [
        "next(model_1.parameters()).device #Check parameters"
      ],
      "metadata": {
        "colab": {
          "base_uri": "https://localhost:8080/"
        },
        "id": "UknzoxOtbAdY",
        "outputId": "7aeabba1-1855-46e6-ee3d-fcfacdb536c8"
      },
      "execution_count": null,
      "outputs": [
        {
          "output_type": "execute_result",
          "data": {
            "text/plain": [
              "device(type='cpu')"
            ]
          },
          "metadata": {},
          "execution_count": 207
        }
      ]
    },
    {
      "cell_type": "markdown",
      "source": [
        "Send to GPU"
      ],
      "metadata": {
        "id": "17kOlHl8bJVj"
      }
    },
    {
      "cell_type": "code",
      "source": [
        "model_1.to(device)\n",
        "next(model_1.parameters()).device"
      ],
      "metadata": {
        "colab": {
          "base_uri": "https://localhost:8080/"
        },
        "id": "PqO-CCxnbKQI",
        "outputId": "f212c01c-d991-45cc-e9aa-24c76ff5eb3a"
      },
      "execution_count": null,
      "outputs": [
        {
          "output_type": "execute_result",
          "data": {
            "text/plain": [
              "device(type='cuda', index=0)"
            ]
          },
          "metadata": {},
          "execution_count": 208
        }
      ]
    },
    {
      "cell_type": "code",
      "source": [
        "loss_fn = nn.L1Loss()\n",
        "optimizer = torch.optim.SGD(params=model_1.parameters(), lr=0.01)"
      ],
      "metadata": {
        "id": "fauxyNzTbQy0"
      },
      "execution_count": null,
      "outputs": []
    },
    {
      "cell_type": "markdown",
      "source": [
        "Put the data on the device"
      ],
      "metadata": {
        "id": "-TKHGiPebXSM"
      }
    },
    {
      "cell_type": "code",
      "source": [
        "epochs = 1000\n",
        "\n",
        "X_train = X_train.to(device)\n",
        "X_test = X_test.to(device)\n",
        "y_train = y_train.to(device)\n",
        "y_test = y_test.to(device)\n",
        "\n",
        "for epoch in range(epochs):\n",
        "  model_1.train()\n",
        "  y_pred = model_1(X_train)\n",
        "  loss = loss_fn(y_pred, y_train)\n",
        "  optimizer.zero_grad()\n",
        "  loss.backward()\n",
        "  optimizer.step()\n",
        "\n",
        "  model_1.eval()\n",
        "  with torch.inference_mode():\n",
        "    test_pred = model_1(X_test)\n",
        "    test_loss = loss_fn(test_pred, y_test)\n",
        "\n",
        "  if epoch % 100 == 0:\n",
        "        print(f\"Epoch: {epoch} | Train loss: {loss} | Test loss: {test_loss}\")"
      ],
      "metadata": {
        "colab": {
          "base_uri": "https://localhost:8080/"
        },
        "id": "AKYdPR0GbYrR",
        "outputId": "7a2daa2c-ba62-45d1-ef2b-d6748a48c620"
      },
      "execution_count": null,
      "outputs": [
        {
          "output_type": "stream",
          "name": "stdout",
          "text": [
            "Epoch: 0 | Train loss: 0.5551779866218567 | Test loss: 0.5739762187004089\n",
            "Epoch: 100 | Train loss: 0.006215683650225401 | Test loss: 0.014086711220443249\n",
            "Epoch: 200 | Train loss: 0.0012645035749301314 | Test loss: 0.013801801018416882\n",
            "Epoch: 300 | Train loss: 0.0012645035749301314 | Test loss: 0.013801801018416882\n",
            "Epoch: 400 | Train loss: 0.0012645035749301314 | Test loss: 0.013801801018416882\n",
            "Epoch: 500 | Train loss: 0.0012645035749301314 | Test loss: 0.013801801018416882\n",
            "Epoch: 600 | Train loss: 0.0012645035749301314 | Test loss: 0.013801801018416882\n",
            "Epoch: 700 | Train loss: 0.0012645035749301314 | Test loss: 0.013801801018416882\n",
            "Epoch: 800 | Train loss: 0.0012645035749301314 | Test loss: 0.013801801018416882\n",
            "Epoch: 900 | Train loss: 0.0012645035749301314 | Test loss: 0.013801801018416882\n"
          ]
        }
      ]
    },
    {
      "cell_type": "code",
      "source": [
        "print(model_1.state_dict())"
      ],
      "metadata": {
        "colab": {
          "base_uri": "https://localhost:8080/"
        },
        "id": "H5tZgm1mb5WX",
        "outputId": "8de708fb-8bc6-4e3a-cc0f-10edc3fbcb66"
      },
      "execution_count": null,
      "outputs": [
        {
          "output_type": "stream",
          "name": "stdout",
          "text": [
            "OrderedDict([('linear.weight', tensor([[0.6968]], device='cuda:0')), ('linear.bias', tensor([0.3025], device='cuda:0'))])\n"
          ]
        }
      ]
    },
    {
      "cell_type": "code",
      "source": [
        "model_1.eval()\n",
        "\n",
        "with torch.inference_mode():\n",
        "    y_preds = model_1(X_test)\n",
        "y_preds"
      ],
      "metadata": {
        "colab": {
          "base_uri": "https://localhost:8080/"
        },
        "id": "v9440dIyb-6q",
        "outputId": "ab2007e8-c209-44ff-a243-2c0271c3f643"
      },
      "execution_count": null,
      "outputs": [
        {
          "output_type": "execute_result",
          "data": {
            "text/plain": [
              "tensor([[0.8600],\n",
              "        [0.8739],\n",
              "        [0.8878],\n",
              "        [0.9018],\n",
              "        [0.9157],\n",
              "        [0.9296],\n",
              "        [0.9436],\n",
              "        [0.9575],\n",
              "        [0.9714],\n",
              "        [0.9854]], device='cuda:0')"
            ]
          },
          "metadata": {},
          "execution_count": 212
        }
      ]
    },
    {
      "cell_type": "markdown",
      "source": [
        "To plot the data you have to first create a copy on the cpu by calling .cpu"
      ],
      "metadata": {
        "id": "F_Y82FHjcEyp"
      }
    },
    {
      "cell_type": "code",
      "source": [
        "plot_predictions(predictions=y_preds.cpu())"
      ],
      "metadata": {
        "colab": {
          "base_uri": "https://localhost:8080/",
          "height": 599
        },
        "id": "_Ja8ThwIcJAH",
        "outputId": "1cca2369-e4e2-4c98-e1ac-cd9d8aa580f9"
      },
      "execution_count": null,
      "outputs": [
        {
          "output_type": "display_data",
          "data": {
            "text/plain": [
              "<Figure size 1000x700 with 1 Axes>"
            ],
            "image/png": "[encoded data removed]"
          },
          "metadata": {}
        }
      ]
    }
  ]
}